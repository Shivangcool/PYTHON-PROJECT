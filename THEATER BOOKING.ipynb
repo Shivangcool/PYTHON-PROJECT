{
 "cells": [
  {
   "cell_type": "code",
   "execution_count": null,
   "id": "57b5b20e-8e22-4486-a6a7-f750a56ce662",
   "metadata": {},
   "outputs": [
    {
     "name": "stdout",
     "output_type": "stream",
     "text": [
      "Welcome to Krishna Talkies\n"
     ]
    },
    {
     "name": "stdin",
     "output_type": "stream",
     "text": [
      "Enter Your Name: SHIVANG\n",
      "Only 20 seats Are available to book, Enter Qty to BOOK: 1\n"
     ]
    },
    {
     "name": "stdout",
     "output_type": "stream",
     "text": [
      "19 SEATS LEFT\n",
      "    Press 1 for Normal seats(price-250/-)\n",
      "    Press 2 for Recyliner seats(price-500/-)\n"
     ]
    },
    {
     "name": "stdin",
     "output_type": "stream",
     "text": [
      "Enter your choice between 1 or 2: 2\n",
      "WOULD YOU WANT TO ADD COMBO SERVICES IN THEATER (Y/N)?  Y\n"
     ]
    },
    {
     "name": "stdout",
     "output_type": "stream",
     "text": [
      "OK\n",
      "succesfully booked 1 tickets\n",
      "Enjoy your movie.\n",
      "----------------------------------------\n",
      "BILL 500\n",
      "----------------------------------------\n",
      " Thank you visit again. !!!\n",
      "                     \n",
      "****************************************\n",
      "Welcome to Krishna Talkies\n"
     ]
    }
   ],
   "source": [
    "\n",
    "seats=20\n",
    "\n",
    "while True:\n",
    "    print('Welcome to Krishna Talkies')\n",
    "    name=input(\"Enter Your Name:\")\n",
    "    u_seats=int(input(\"Only 20 seats Are available to book, Enter Qty to BOOK:\"))\n",
    "    if u_seats>seats:\n",
    "        print(\"Housefull\")\n",
    "        break\n",
    "        \n",
    "    print(seats-u_seats,\"SEATS LEFT\")    \n",
    "    print(\"\"\"    Press 1 for Normal seats(price-250/-)\n",
    "    Press 2 for Recyliner seats(price-500/-)\"\"\")\n",
    "    choice=int(input(\"Enter your choice between 1 or 2:\"))\n",
    "    if choice==1:\n",
    "        total=(u_seats*250)\n",
    "    elif choice==2:\n",
    "        total=(u_seats*500)\n",
    "     \n",
    "    combo_choice = input(\"WOULD YOU WANT TO ADD COMBO SERVICES IN THEATER (Y/N)? \")\n",
    "    if combo_choice == 'y':\n",
    "                print(\"COMBOS SERVICE ADDED\")\n",
    "    else:             \n",
    "                print(\"OK\")\n",
    "\n",
    "    print(\"succesfully booked\",u_seats,\"tickets\")\n",
    "    print(\"Enjoy your movie.\")\n",
    "    print(\"-\"*40)\n",
    "    print(\"BILL\",total)\n",
    "    print(\"-\"*40)\n",
    "    print(\" Thank you visit again. !!!\")\n",
    "    print(\"                     \")\n",
    "    print(\"*\"*40)"
   ]
  },
  {
   "cell_type": "code",
   "execution_count": null,
   "id": "464c6017-7986-4efc-8d2e-ddf7928bf338",
   "metadata": {},
   "outputs": [],
   "source": []
  }
 ],
 "metadata": {
  "kernelspec": {
   "display_name": "Python 3 (ipykernel)",
   "language": "python",
   "name": "python3"
  },
  "language_info": {
   "codemirror_mode": {
    "name": "ipython",
    "version": 3
   },
   "file_extension": ".py",
   "mimetype": "text/x-python",
   "name": "python",
   "nbconvert_exporter": "python",
   "pygments_lexer": "ipython3",
   "version": "3.11.4"
  }
 },
 "nbformat": 4,
 "nbformat_minor": 5
}
